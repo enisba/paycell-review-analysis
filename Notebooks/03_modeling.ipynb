{
 "cells": [
  {
   "cell_type": "code",
   "execution_count": 1,
   "id": "2b24c7aa-0240-43c2-8b61-023222a526bc",
   "metadata": {},
   "outputs": [],
   "source": [
    "import pandas as pd"
   ]
  },
  {
   "cell_type": "code",
   "execution_count": 2,
   "id": "e79c7b0f-89fa-4eb6-931e-e2143c241c92",
   "metadata": {},
   "outputs": [],
   "source": [
    "df = pd.read_csv(\"../data/preprocessed_review.csv\")"
   ]
  },
  {
   "cell_type": "code",
   "execution_count": 3,
   "id": "8e560f2a-6ce4-46d9-930d-ffe20c507244",
   "metadata": {},
   "outputs": [
    {
     "data": {
      "text/plain": [
       "sentiment\n",
       "positive    45656\n",
       "negative    18419\n",
       "neutral      2219\n",
       "Name: count, dtype: int64"
      ]
     },
     "execution_count": 3,
     "metadata": {},
     "output_type": "execute_result"
    }
   ],
   "source": [
    "def label_review(rate):\n",
    "    if rate >= 4: return 'positive'\n",
    "    elif rate == 3: return 'neutral'\n",
    "    else: return 'negative'\n",
    "\n",
    "df['sentiment'] = df['Puan'].apply(label_review)\n",
    "df['sentiment'].value_counts()"
   ]
  },
  {
   "cell_type": "code",
   "execution_count": 4,
   "id": "721b4ee6-e049-439b-998b-4d69121ba97a",
   "metadata": {},
   "outputs": [],
   "source": [
    "from transformers import AutoTokenizer, AutoModelForSequenceClassification\n",
    "import torch\n",
    "from torch.nn.functional import softmax\n",
    "from tqdm import tqdm\n",
    "\n",
    "model_name = \"nlptown/bert-base-multilingual-uncased-sentiment\"\n",
    "tokenizer = AutoTokenizer.from_pretrained(model_name)\n",
    "model = AutoModelForSequenceClassification.from_pretrained(model_name).to(\"cuda\")\n",
    "model.eval()\n",
    "\n",
    "def predict_star_scores(texts, batch_size=64):\n",
    "    results = []\n",
    "    with torch.no_grad():\n",
    "        for i in tqdm(range(0, len(texts), batch_size)):\n",
    "            batch = texts[i:i+batch_size]\n",
    "            inputs = tokenizer(batch, padding=True, truncation=True, return_tensors=\"pt\").to(\"cuda\")\n",
    "            outputs = model(**inputs)\n",
    "            probs = softmax(outputs.logits, dim=1)\n",
    "            stars = torch.argmax(probs, dim=1) + 1  # 0-based index → 1–5\n",
    "            for score, prob in zip(stars, probs):\n",
    "                results.append({\n",
    "                    \"score\": score.item(),\n",
    "                    \"distribution\": prob.tolist()\n",
    "                })\n",
    "    return results\n"
   ]
  },
  {
   "cell_type": "code",
   "execution_count": 6,
   "id": "0c3b1e88-2d49-41c2-a3bc-2ccab218edf8",
   "metadata": {},
   "outputs": [
    {
     "name": "stderr",
     "output_type": "stream",
     "text": [
      "100%|██████████████████████████████████████████████████████████████████████████████| 1036/1036 [02:28<00:00,  6.96it/s]\n"
     ]
    }
   ],
   "source": [
    "import ast\n",
    "\n",
    "texts = df[\"lemmas\"].dropna().apply(lambda x: \" \".join(ast.literal_eval(x))).tolist()\n",
    "results = predict_star_scores(texts)"
   ]
  },
  {
   "cell_type": "code",
   "execution_count": 8,
   "id": "f8803a88-02c8-4c7b-b0e8-c6d6c036a23c",
   "metadata": {},
   "outputs": [],
   "source": [
    "df_filtered = df.loc[df[\"lemmas\"].notna()].copy()\n",
    "df_filtered[\"sentiment_star\"] = [r[\"score\"] for r in results]"
   ]
  },
  {
   "cell_type": "code",
   "execution_count": 10,
   "id": "9563356c-48ed-4a2e-a145-ca547dd4a242",
   "metadata": {},
   "outputs": [
    {
     "name": "stdout",
     "output_type": "stream",
     "text": [
      "sentiment_star\n",
      "5    31759\n",
      "1    19107\n",
      "3    11272\n",
      "4     3092\n",
      "2     1064\n",
      "Name: count, dtype: int64\n"
     ]
    }
   ],
   "source": [
    "print(df_filtered[\"sentiment_star\"].value_counts())"
   ]
  },
  {
   "cell_type": "code",
   "execution_count": 12,
   "id": "4fe49541-ddf9-42a0-8b58-fc8b0adb050e",
   "metadata": {},
   "outputs": [],
   "source": [
    "\n",
    "df_filtered[[\"lemmas\", \"sentiment_star\"]].to_csv(\"sentiment_results.csv\", index=False)\n"
   ]
  },
  {
   "cell_type": "code",
   "execution_count": 18,
   "id": "0b5da8d7-943d-4f72-9bdc-2afba3e4bd64",
   "metadata": {},
   "outputs": [
    {
     "name": "stdout",
     "output_type": "stream",
     "text": [
      "Doğruluk: %57.29\n"
     ]
    }
   ],
   "source": [
    "from sklearn.metrics import accuracy_score\n",
    "df_filtered = df.loc[df[\"lemmas\"].notna() & df[\"Puan\"].notna()].copy()\n",
    "df_filtered[\"pred_star\"] = [int(r[\"score\"]) for r in results]\n",
    "\n",
    "acc = accuracy_score(df_filtered[\"Puan\"], df_filtered[\"pred_star\"])\n",
    "print(f\"Doğruluk: %{acc*100:.2f}\")\n"
   ]
  },
  {
   "cell_type": "code",
   "execution_count": 19,
   "id": "67cc521c-647b-4006-b160-e3808b2e4fc4",
   "metadata": {},
   "outputs": [
    {
     "name": "stdout",
     "output_type": "stream",
     "text": [
      "              precision    recall  f1-score   support\n",
      "\n",
      "           1       0.57      0.65      0.61     16756\n",
      "           2       0.03      0.02      0.02      1663\n",
      "           3       0.04      0.20      0.06      2219\n",
      "           4       0.07      0.07      0.07      3311\n",
      "           5       0.83      0.62      0.71     42345\n",
      "\n",
      "    accuracy                           0.57     66294\n",
      "   macro avg       0.31      0.31      0.30     66294\n",
      "weighted avg       0.68      0.57      0.61     66294\n",
      "\n"
     ]
    }
   ],
   "source": [
    "from sklearn.metrics import classification_report\n",
    "print(classification_report(df_filtered[\"Puan\"], df_filtered[\"pred_star\"]))\n"
   ]
  },
  {
   "cell_type": "code",
   "execution_count": null,
   "id": "dea85ae5-c49e-4977-9c07-5f041b3a7901",
   "metadata": {},
   "outputs": [],
   "source": []
  }
 ],
 "metadata": {
  "kernelspec": {
   "display_name": "paycell_review_analysis",
   "language": "python",
   "name": "paycell_review_analysis"
  },
  "language_info": {
   "codemirror_mode": {
    "name": "ipython",
    "version": 3
   },
   "file_extension": ".py",
   "mimetype": "text/x-python",
   "name": "python",
   "nbconvert_exporter": "python",
   "pygments_lexer": "ipython3",
   "version": "3.10.18"
  }
 },
 "nbformat": 4,
 "nbformat_minor": 5
}
