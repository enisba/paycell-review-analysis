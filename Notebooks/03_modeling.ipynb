{
 "cells": [
  {
   "cell_type": "code",
   "execution_count": 1,
   "id": "2b24c7aa-0240-43c2-8b61-023222a526bc",
   "metadata": {},
   "outputs": [],
   "source": [
    "import pandas as pd\n",
    "import matplotlib.pyplot as plt"
   ]
  },
  {
   "cell_type": "code",
   "execution_count": 2,
   "id": "e79c7b0f-89fa-4eb6-931e-e2143c241c92",
   "metadata": {},
   "outputs": [],
   "source": [
    "df = pd.read_csv(\"../data/preprocessed_review.csv\")"
   ]
  },
  {
   "cell_type": "code",
   "execution_count": 3,
   "id": "8e560f2a-6ce4-46d9-930d-ffe20c507244",
   "metadata": {},
   "outputs": [
    {
     "data": {
      "text/plain": [
       "sentiment\n",
       "positive    45656\n",
       "negative    18419\n",
       "neutral      2219\n",
       "Name: count, dtype: int64"
      ]
     },
     "execution_count": 3,
     "metadata": {},
     "output_type": "execute_result"
    }
   ],
   "source": [
    "def label_review(rate):\n",
    "    if rate >= 4: return 'positive'\n",
    "    elif rate == 3: return 'neutral'\n",
    "    else: return 'negative'\n",
    "\n",
    "df['sentiment'] = df['Puan'].apply(label_review)\n",
    "df['sentiment'].value_counts()"
   ]
  },
  {
   "cell_type": "code",
   "execution_count": 4,
   "id": "3f9aae80-3384-4321-afe4-dd8724826886",
   "metadata": {},
   "outputs": [
    {
     "data": {
      "image/png": "[encoded data removed]",
      "text/plain": [
       "<Figure size 640x480 with 1 Axes>"
      ]
     },
     "metadata": {},
     "output_type": "display_data"
    }
   ],
   "source": [
    "\n",
    "df[\"review_length\"] = df[\"lemmas\"].apply(len)\n",
    "\n",
    "df.groupby(\"sentiment\")[\"review_length\"].mean().reindex([\"negative\", \"neutral\", \"positive\"]).plot(\n",
    "    kind=\"bar\", color=[\"red\", \"gray\", \"green\"]\n",
    ")\n",
    "plt.title(\"Duygu Etiketine Göre Ortalama Yorum Uzunluğu\")\n",
    "plt.xlabel(\"Duygu\")\n",
    "plt.ylabel(\"Ortalama Yorum Uzunluğu (kelime)\")\n",
    "plt.grid(axis='y')\n",
    "plt.show()\n",
    "\n"
   ]
  },
  {
   "cell_type": "code",
   "execution_count": 18,
   "id": "721b4ee6-e049-439b-998b-4d69121ba97a",
   "metadata": {},
   "outputs": [
    {
     "name": "stderr",
     "output_type": "stream",
     "text": [
      "Xet Storage is enabled for this repo, but the 'hf_xet' package is not installed. Falling back to regular HTTP download. For better performance, install the package with: `pip install huggingface_hub[hf_xet]` or `pip install hf_xet`\n"
     ]
    },
    {
     "data": {
      "application/vnd.jupyter.widget-view+json": {
       "model_id": "93b2b595b7bf4023ade5691a9e5fcfd2",
       "version_major": 2,
       "version_minor": 0
      },
      "text/plain": [
       "model.safetensors:  28%|##7       | 210M/751M [00:00<?, ?B/s]"
      ]
     },
     "metadata": {},
     "output_type": "display_data"
    },
    {
     "name": "stderr",
     "output_type": "stream",
     "text": [
      "Device set to use cuda:0\n"
     ]
    }
   ],
   "source": [
    "from transformers import AutoTokenizer, AutoModelForSequenceClassification, pipeline\n",
    "\n",
    "model_name = \"tabularisai/multilingual-sentiment-analysis\"\n",
    "\n",
    "tokenizer = AutoTokenizer.from_pretrained(model_name)\n",
    "model = AutoModelForSequenceClassification.from_pretrained(model_name)\n",
    "\n",
    "sentiment_pipe = pipeline(\"sentiment-analysis\", model=model, tokenizer=tokenizer)\n"
   ]
  },
  {
   "cell_type": "code",
   "execution_count": 19,
   "id": "0c3b1e88-2d49-41c2-a3bc-2ccab218edf8",
   "metadata": {},
   "outputs": [],
   "source": [
    "import ast\n",
    "\n",
    "texts = df[\"lemmas\"].dropna().apply(lambda x: \" \".join(ast.literal_eval(x))).tolist()\n",
    "results = sentiment_pipe(texts, batch_size=128)"
   ]
  },
  {
   "cell_type": "code",
   "execution_count": 20,
   "id": "f8803a88-02c8-4c7b-b0e8-c6d6c036a23c",
   "metadata": {},
   "outputs": [],
   "source": [
    "df[\"pred_label\"] = [res[\"label\"] for res in results]\n",
    "df[\"pred_score\"] = [res[\"score\"] for res in results]"
   ]
  },
  {
   "cell_type": "code",
   "execution_count": 21,
   "id": "ef58bdb6-8ba7-4047-852b-f204c6c925f7",
   "metadata": {},
   "outputs": [],
   "source": [
    "def normalize_label(label):\n",
    "    label = label.lower()\n",
    "    if \"neg\" in label:\n",
    "        return \"negative\"\n",
    "    elif \"notr\" in label or \"neutral\" in label:\n",
    "        return \"neutral\"\n",
    "    elif \"pos\" in label:\n",
    "        return \"positive\"\n",
    "    return \"unknown\"\n",
    "\n",
    "df[\"normalized_pred_label\"] = df[\"pred_label\"].apply(normalize_label)\n"
   ]
  },
  {
   "cell_type": "code",
   "execution_count": 22,
   "id": "9563356c-48ed-4a2e-a145-ca547dd4a242",
   "metadata": {},
   "outputs": [
    {
     "name": "stdout",
     "output_type": "stream",
     "text": [
      "              precision    recall  f1-score   support\n",
      "\n",
      "    negative       0.52      0.66      0.58     18419\n",
      "     neutral       0.06      0.21      0.09      2219\n",
      "    positive       0.89      0.68      0.77     45656\n",
      "\n",
      "    accuracy                           0.66     66294\n",
      "   macro avg       0.49      0.52      0.48     66294\n",
      "weighted avg       0.76      0.66      0.70     66294\n",
      "\n"
     ]
    }
   ],
   "source": [
    "from sklearn.metrics import classification_report\n",
    "print(classification_report(df[\"sentiment\"], df[\"normalized_pred_label\"]))\n"
   ]
  },
  {
   "cell_type": "code",
   "execution_count": 30,
   "id": "35deec5a-2afe-49cc-88c2-1e6b60439a86",
   "metadata": {},
   "outputs": [
    {
     "data": {
      "text/html": [
       "<div>\n",
       "<style scoped>\n",
       "    .dataframe tbody tr th:only-of-type {\n",
       "        vertical-align: middle;\n",
       "    }\n",
       "\n",
       "    .dataframe tbody tr th {\n",
       "        vertical-align: top;\n",
       "    }\n",
       "\n",
       "    .dataframe thead th {\n",
       "        text-align: right;\n",
       "    }\n",
       "</style>\n",
       "<table border=\"1\" class=\"dataframe\">\n",
       "  <thead>\n",
       "    <tr style=\"text-align: right;\">\n",
       "      <th></th>\n",
       "      <th>lemmas</th>\n",
       "      <th>Puan</th>\n",
       "      <th>Tarih</th>\n",
       "      <th>sentiment</th>\n",
       "      <th>review_length</th>\n",
       "      <th>pred_label</th>\n",
       "      <th>pred_score</th>\n",
       "      <th>normalized_pred_label</th>\n",
       "    </tr>\n",
       "  </thead>\n",
       "  <tbody>\n",
       "    <tr>\n",
       "      <th>0</th>\n",
       "      <td>['şua', 'uygula', 'sorun', 'var', 'banka', 'ka...</td>\n",
       "      <td>1</td>\n",
       "      <td>2025-07-07 10:25:20</td>\n",
       "      <td>negative</td>\n",
       "      <td>213</td>\n",
       "      <td>Very Negative</td>\n",
       "      <td>0.392146</td>\n",
       "      <td>negative</td>\n",
       "    </tr>\n",
       "    <tr>\n",
       "      <th>1</th>\n",
       "      <td>['bir', 'türlü', 'dekont', 'al', 'yer', 'öde',...</td>\n",
       "      <td>1</td>\n",
       "      <td>2025-07-07 09:08:45</td>\n",
       "      <td>negative</td>\n",
       "      <td>115</td>\n",
       "      <td>Neutral</td>\n",
       "      <td>0.568174</td>\n",
       "      <td>neutral</td>\n",
       "    </tr>\n",
       "    <tr>\n",
       "      <th>2</th>\n",
       "      <td>['bir', 'uygula', 'bir', 'hafta', 'aç', 'çalış...</td>\n",
       "      <td>1</td>\n",
       "      <td>2025-07-06 22:22:35</td>\n",
       "      <td>negative</td>\n",
       "      <td>212</td>\n",
       "      <td>Neutral</td>\n",
       "      <td>0.300394</td>\n",
       "      <td>neutral</td>\n",
       "    </tr>\n",
       "    <tr>\n",
       "      <th>3</th>\n",
       "      <td>['yabancı', 'ol', 'doğrula', 'yap']</td>\n",
       "      <td>1</td>\n",
       "      <td>2025-07-06 20:02:06</td>\n",
       "      <td>negative</td>\n",
       "      <td>35</td>\n",
       "      <td>Very Negative</td>\n",
       "      <td>0.291021</td>\n",
       "      <td>negative</td>\n",
       "    </tr>\n",
       "    <tr>\n",
       "      <th>4</th>\n",
       "      <td>['şifre', 'güncelle', 'de', 'guncelletmiuorsun...</td>\n",
       "      <td>3</td>\n",
       "      <td>2025-07-06 18:34:42</td>\n",
       "      <td>neutral</td>\n",
       "      <td>58</td>\n",
       "      <td>Very Negative</td>\n",
       "      <td>0.273458</td>\n",
       "      <td>negative</td>\n",
       "    </tr>\n",
       "    <tr>\n",
       "      <th>...</th>\n",
       "      <td>...</td>\n",
       "      <td>...</td>\n",
       "      <td>...</td>\n",
       "      <td>...</td>\n",
       "      <td>...</td>\n",
       "      <td>...</td>\n",
       "      <td>...</td>\n",
       "      <td>...</td>\n",
       "    </tr>\n",
       "    <tr>\n",
       "      <th>66289</th>\n",
       "      <td>['güzel']</td>\n",
       "      <td>5</td>\n",
       "      <td>2017-08-25 10:43:11</td>\n",
       "      <td>positive</td>\n",
       "      <td>9</td>\n",
       "      <td>Positive</td>\n",
       "      <td>0.535535</td>\n",
       "      <td>positive</td>\n",
       "    </tr>\n",
       "    <tr>\n",
       "      <th>66290</th>\n",
       "      <td>['mobil', 'öde', 'bakiye', 'işlem', 'tarihçe',...</td>\n",
       "      <td>5</td>\n",
       "      <td>2017-08-19 15:08:30</td>\n",
       "      <td>positive</td>\n",
       "      <td>82</td>\n",
       "      <td>Positive</td>\n",
       "      <td>0.397282</td>\n",
       "      <td>positive</td>\n",
       "    </tr>\n",
       "    <tr>\n",
       "      <th>66291</th>\n",
       "      <td>['besleme']</td>\n",
       "      <td>4</td>\n",
       "      <td>2017-08-17 06:38:45</td>\n",
       "      <td>positive</td>\n",
       "      <td>11</td>\n",
       "      <td>Neutral</td>\n",
       "      <td>0.320637</td>\n",
       "      <td>neutral</td>\n",
       "    </tr>\n",
       "    <tr>\n",
       "      <th>66292</th>\n",
       "      <td>['fin', 'hit']</td>\n",
       "      <td>5</td>\n",
       "      <td>2017-08-16 20:23:34</td>\n",
       "      <td>positive</td>\n",
       "      <td>14</td>\n",
       "      <td>Positive</td>\n",
       "      <td>0.460450</td>\n",
       "      <td>positive</td>\n",
       "    </tr>\n",
       "    <tr>\n",
       "      <th>66293</th>\n",
       "      <td>['gayet', 'başarı', 'kullan', 'dost']</td>\n",
       "      <td>5</td>\n",
       "      <td>2017-08-15 22:20:51</td>\n",
       "      <td>positive</td>\n",
       "      <td>37</td>\n",
       "      <td>Positive</td>\n",
       "      <td>0.503066</td>\n",
       "      <td>positive</td>\n",
       "    </tr>\n",
       "  </tbody>\n",
       "</table>\n",
       "<p>66294 rows × 8 columns</p>\n",
       "</div>"
      ],
      "text/plain": [
       "                                                  lemmas  Puan  \\\n",
       "0      ['şua', 'uygula', 'sorun', 'var', 'banka', 'ka...     1   \n",
       "1      ['bir', 'türlü', 'dekont', 'al', 'yer', 'öde',...     1   \n",
       "2      ['bir', 'uygula', 'bir', 'hafta', 'aç', 'çalış...     1   \n",
       "3                    ['yabancı', 'ol', 'doğrula', 'yap']     1   \n",
       "4      ['şifre', 'güncelle', 'de', 'guncelletmiuorsun...     3   \n",
       "...                                                  ...   ...   \n",
       "66289                                          ['güzel']     5   \n",
       "66290  ['mobil', 'öde', 'bakiye', 'işlem', 'tarihçe',...     5   \n",
       "66291                                        ['besleme']     4   \n",
       "66292                                     ['fin', 'hit']     5   \n",
       "66293              ['gayet', 'başarı', 'kullan', 'dost']     5   \n",
       "\n",
       "                     Tarih sentiment  review_length     pred_label  \\\n",
       "0      2025-07-07 10:25:20  negative            213  Very Negative   \n",
       "1      2025-07-07 09:08:45  negative            115        Neutral   \n",
       "2      2025-07-06 22:22:35  negative            212        Neutral   \n",
       "3      2025-07-06 20:02:06  negative             35  Very Negative   \n",
       "4      2025-07-06 18:34:42   neutral             58  Very Negative   \n",
       "...                    ...       ...            ...            ...   \n",
       "66289  2017-08-25 10:43:11  positive              9       Positive   \n",
       "66290  2017-08-19 15:08:30  positive             82       Positive   \n",
       "66291  2017-08-17 06:38:45  positive             11        Neutral   \n",
       "66292  2017-08-16 20:23:34  positive             14       Positive   \n",
       "66293  2017-08-15 22:20:51  positive             37       Positive   \n",
       "\n",
       "       pred_score normalized_pred_label  \n",
       "0        0.392146              negative  \n",
       "1        0.568174               neutral  \n",
       "2        0.300394               neutral  \n",
       "3        0.291021              negative  \n",
       "4        0.273458              negative  \n",
       "...           ...                   ...  \n",
       "66289    0.535535              positive  \n",
       "66290    0.397282              positive  \n",
       "66291    0.320637               neutral  \n",
       "66292    0.460450              positive  \n",
       "66293    0.503066              positive  \n",
       "\n",
       "[66294 rows x 8 columns]"
      ]
     },
     "execution_count": 30,
     "metadata": {},
     "output_type": "execute_result"
    }
   ],
   "source": [
    "df"
   ]
  },
  {
   "cell_type": "code",
   "execution_count": 31,
   "id": "08019ec3-40a8-4432-822b-450e069ffeb1",
   "metadata": {},
   "outputs": [
    {
     "data": {
      "text/html": [
       "<div>\n",
       "<style scoped>\n",
       "    .dataframe tbody tr th:only-of-type {\n",
       "        vertical-align: middle;\n",
       "    }\n",
       "\n",
       "    .dataframe tbody tr th {\n",
       "        vertical-align: top;\n",
       "    }\n",
       "\n",
       "    .dataframe thead th {\n",
       "        text-align: right;\n",
       "    }\n",
       "</style>\n",
       "<table border=\"1\" class=\"dataframe\">\n",
       "  <thead>\n",
       "    <tr style=\"text-align: right;\">\n",
       "      <th></th>\n",
       "      <th>sentiment</th>\n",
       "      <th>normalized_pred_label</th>\n",
       "    </tr>\n",
       "  </thead>\n",
       "  <tbody>\n",
       "    <tr>\n",
       "      <th>0</th>\n",
       "      <td>negative</td>\n",
       "      <td>negative</td>\n",
       "    </tr>\n",
       "    <tr>\n",
       "      <th>1</th>\n",
       "      <td>negative</td>\n",
       "      <td>neutral</td>\n",
       "    </tr>\n",
       "    <tr>\n",
       "      <th>2</th>\n",
       "      <td>negative</td>\n",
       "      <td>neutral</td>\n",
       "    </tr>\n",
       "    <tr>\n",
       "      <th>3</th>\n",
       "      <td>negative</td>\n",
       "      <td>negative</td>\n",
       "    </tr>\n",
       "    <tr>\n",
       "      <th>4</th>\n",
       "      <td>neutral</td>\n",
       "      <td>negative</td>\n",
       "    </tr>\n",
       "    <tr>\n",
       "      <th>...</th>\n",
       "      <td>...</td>\n",
       "      <td>...</td>\n",
       "    </tr>\n",
       "    <tr>\n",
       "      <th>66289</th>\n",
       "      <td>positive</td>\n",
       "      <td>positive</td>\n",
       "    </tr>\n",
       "    <tr>\n",
       "      <th>66290</th>\n",
       "      <td>positive</td>\n",
       "      <td>positive</td>\n",
       "    </tr>\n",
       "    <tr>\n",
       "      <th>66291</th>\n",
       "      <td>positive</td>\n",
       "      <td>neutral</td>\n",
       "    </tr>\n",
       "    <tr>\n",
       "      <th>66292</th>\n",
       "      <td>positive</td>\n",
       "      <td>positive</td>\n",
       "    </tr>\n",
       "    <tr>\n",
       "      <th>66293</th>\n",
       "      <td>positive</td>\n",
       "      <td>positive</td>\n",
       "    </tr>\n",
       "  </tbody>\n",
       "</table>\n",
       "<p>66294 rows × 2 columns</p>\n",
       "</div>"
      ],
      "text/plain": [
       "      sentiment normalized_pred_label\n",
       "0      negative              negative\n",
       "1      negative               neutral\n",
       "2      negative               neutral\n",
       "3      negative              negative\n",
       "4       neutral              negative\n",
       "...         ...                   ...\n",
       "66289  positive              positive\n",
       "66290  positive              positive\n",
       "66291  positive               neutral\n",
       "66292  positive              positive\n",
       "66293  positive              positive\n",
       "\n",
       "[66294 rows x 2 columns]"
      ]
     },
     "execution_count": 31,
     "metadata": {},
     "output_type": "execute_result"
    }
   ],
   "source": [
    "df[[\"sentiment\",\"normalized_pred_label\"]]"
   ]
  },
  {
   "cell_type": "code",
   "execution_count": 23,
   "id": "4fe49541-ddf9-42a0-8b58-fc8b0adb050e",
   "metadata": {},
   "outputs": [
    {
     "ename": "NameError",
     "evalue": "name 'df_filtered' is not defined",
     "output_type": "error",
     "traceback": [
      "\u001b[1;31m---------------------------------------------------------------------------\u001b[0m",
      "\u001b[1;31mNameError\u001b[0m                                 Traceback (most recent call last)",
      "Cell \u001b[1;32mIn[23], line 1\u001b[0m\n\u001b[1;32m----> 1\u001b[0m \u001b[43mdf_filtered\u001b[49m[[\u001b[38;5;124m\"\u001b[39m\u001b[38;5;124mlemmas\u001b[39m\u001b[38;5;124m\"\u001b[39m, \u001b[38;5;124m\"\u001b[39m\u001b[38;5;124msentiment_star\u001b[39m\u001b[38;5;124m\"\u001b[39m]]\u001b[38;5;241m.\u001b[39mto_csv(\u001b[38;5;124m\"\u001b[39m\u001b[38;5;124msentiment_results.csv\u001b[39m\u001b[38;5;124m\"\u001b[39m, index\u001b[38;5;241m=\u001b[39m\u001b[38;5;28;01mFalse\u001b[39;00m)\n",
      "\u001b[1;31mNameError\u001b[0m: name 'df_filtered' is not defined"
     ]
    }
   ],
   "source": [
    "\n",
    "df[[\"lemmas\", \"normalized_pred_label\"]].to_csv(\"sentiment_results.csv\", index=False)\n"
   ]
  },
  {
   "cell_type": "code",
   "execution_count": null,
   "id": "0b5da8d7-943d-4f72-9bdc-2afba3e4bd64",
   "metadata": {},
   "outputs": [],
   "source": [
    "from sklearn.metrics import accuracy_score\n",
    "df_filtered = df.loc[df[\"lemmas\"].notna() & df[\"Puan\"].notna()].copy()\n",
    "df_filtered[\"pred_star\"] = [int(r[\"score\"]) for r in results]\n",
    "\n",
    "acc = accuracy_score(df_filtered[\"Puan\"], df_filtered[\"pred_star\"])\n",
    "print(f\"Doğruluk: %{acc*100:.2f}\")\n"
   ]
  },
  {
   "cell_type": "code",
   "execution_count": null,
   "id": "67cc521c-647b-4006-b160-e3808b2e4fc4",
   "metadata": {},
   "outputs": [],
   "source": [
    "from sklearn.metrics import classification_report\n",
    "print(classification_report(df_filtered[\"Puan\"], df_filtered[\"pred_star\"]))\n"
   ]
  },
  {
   "cell_type": "code",
   "execution_count": null,
   "id": "dea85ae5-c49e-4977-9c07-5f041b3a7901",
   "metadata": {},
   "outputs": [],
   "source": []
  }
 ],
 "metadata": {
  "kernelspec": {
   "display_name": "paycell_review_analysis",
   "language": "python",
   "name": "paycell_review_analysis"
  },
  "language_info": {
   "codemirror_mode": {
    "name": "ipython",
    "version": 3
   },
   "file_extension": ".py",
   "mimetype": "text/x-python",
   "name": "python",
   "nbconvert_exporter": "python",
   "pygments_lexer": "ipython3",
   "version": "3.10.18"
  }
 },
 "nbformat": 4,
 "nbformat_minor": 5
}
