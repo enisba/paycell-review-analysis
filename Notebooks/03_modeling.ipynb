{
 "cells": [
  {
   "cell_type": "code",
   "execution_count": 1,
   "id": "2b24c7aa-0240-43c2-8b61-023222a526bc",
   "metadata": {},
   "outputs": [],
   "source": [
    "import pandas as pd"
   ]
  },
  {
   "cell_type": "code",
   "execution_count": 2,
   "id": "e79c7b0f-89fa-4eb6-931e-e2143c241c92",
   "metadata": {},
   "outputs": [],
   "source": [
    "df = pd.read_csv(\"../data/preprocessed_review.csv\")"
   ]
  },
  {
   "cell_type": "code",
   "execution_count": 3,
   "id": "8e560f2a-6ce4-46d9-930d-ffe20c507244",
   "metadata": {},
   "outputs": [
    {
     "data": {
      "text/plain": [
       "sentiment\n",
       "positive    45656\n",
       "negative    18419\n",
       "neutral      2219\n",
       "Name: count, dtype: int64"
      ]
     },
     "execution_count": 3,
     "metadata": {},
     "output_type": "execute_result"
    }
   ],
   "source": [
    "def label_review(rate):\n",
    "    if rate >= 4: return 'positive'\n",
    "    elif rate == 3: return 'neutral'\n",
    "    else: return 'negative'\n",
    "\n",
    "df['sentiment'] = df['Puan'].apply(label_review)\n",
    "df['sentiment'].value_counts()"
   ]
  },
  {
   "cell_type": "code",
   "execution_count": null,
   "id": "42bcc8be-f7b5-4c94-8d88-d67a2a49fb69",
   "metadata": {},
   "outputs": [],
   "source": []
  }
 ],
 "metadata": {
  "kernelspec": {
   "display_name": "paycell_review_analysis",
   "language": "python",
   "name": "paycell_review_analysis"
  },
  "language_info": {
   "codemirror_mode": {
    "name": "ipython",
    "version": 3
   },
   "file_extension": ".py",
   "mimetype": "text/x-python",
   "name": "python",
   "nbconvert_exporter": "python",
   "pygments_lexer": "ipython3",
   "version": "3.10.18"
  }
 },
 "nbformat": 4,
 "nbformat_minor": 5
}
