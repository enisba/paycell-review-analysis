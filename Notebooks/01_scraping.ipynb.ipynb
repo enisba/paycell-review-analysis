{
 "cells": [
  {
   "cell_type": "code",
   "execution_count": 1,
   "id": "5bac7eb2-2e1b-451a-9f58-ea495a884f4d",
   "metadata": {},
   "outputs": [],
   "source": [
    "from google_play_scraper import Sort, reviews\n",
    "import pandas as pd"
   ]
  },
  {
   "cell_type": "code",
   "execution_count": 4,
   "id": "8c226cf4-b56f-40ab-93dc-dde0d71b0040",
   "metadata": {},
   "outputs": [],
   "source": [
    "results, _ = reviews ('com.turkcell.paycell',\n",
    "                      lang='tr',\n",
    "                      country='tr',\n",
    "                      sort=Sort.NEWEST,\n",
    "                      count=10000\n",
    "                     )"
   ]
  },
  {
   "cell_type": "code",
   "execution_count": 8,
   "id": "8ad4de19-85d1-41fc-bf96-fdfff01ec2b8",
   "metadata": {},
   "outputs": [
    {
     "data": {
      "text/plain": [
       "{'reviewId': '5d586adf-f871-484d-9ae4-0fbcf556583c',\n",
       " 'userName': 'Google kullanıcısı',\n",
       " 'userImage': 'https://play-lh.googleusercontent.com/EGemoI2NTXmTsBVtJqk8jxF9rh8ApRWfsIMQSt2uE4OcpQqbFu7f7NbTK05lx80nuSijCz7sc3a277R67g',\n",
       " 'content': 'Telefonu sıfırladım uygulamayı tekrar kurdum. Aynı cihazdan giriş yapmama rağmen \"5 ayrı cihazla giriş yaptınız\" diye 30 gün ban yedim. Telefon aynı telefon halbuki. 5 cihazla giriş yapıldıysa da 5i aynı cihaz. müşteri hizmetlerinde aradım fakat yardımcı olamadılar...Banka uygulamalarında yüklüyoruz ama hiç böyle bir problem yaşamıyoruz çünkü sistem kendisi eslenmis cihazlardan birini silip yenisini ekliyor. Acil çözüm bekliyorum ama malesef biliyorum ki boşuna bekliyorum...',\n",
       " 'score': 1,\n",
       " 'thumbsUpCount': 0,\n",
       " 'reviewCreatedVersion': '9.3.1',\n",
       " 'at': datetime.datetime(2025, 7, 6, 3, 11, 37),\n",
       " 'replyContent': None,\n",
       " 'repliedAt': None,\n",
       " 'appVersion': '9.3.1'}"
      ]
     },
     "execution_count": 8,
     "metadata": {},
     "output_type": "execute_result"
    }
   ],
   "source": [
    "results[0]"
   ]
  },
  {
   "cell_type": "code",
   "execution_count": 10,
   "id": "65b0d327-72db-4c2e-8ade-c9f8e7f4cbf2",
   "metadata": {},
   "outputs": [],
   "source": [
    "df = pd.DataFrame(results)\n",
    "df = df[['userName', 'content', 'score', 'at']]\n",
    "df.columns = ['Kullanıcı', 'Yorum', 'Puan', 'Tarih']"
   ]
  },
  {
   "cell_type": "code",
   "execution_count": 11,
   "id": "988d11cd-a50a-4bad-91ab-fedbd507cb06",
   "metadata": {},
   "outputs": [
    {
     "data": {
      "text/html": [
       "<div>\n",
       "<style scoped>\n",
       "    .dataframe tbody tr th:only-of-type {\n",
       "        vertical-align: middle;\n",
       "    }\n",
       "\n",
       "    .dataframe tbody tr th {\n",
       "        vertical-align: top;\n",
       "    }\n",
       "\n",
       "    .dataframe thead th {\n",
       "        text-align: right;\n",
       "    }\n",
       "</style>\n",
       "<table border=\"1\" class=\"dataframe\">\n",
       "  <thead>\n",
       "    <tr style=\"text-align: right;\">\n",
       "      <th></th>\n",
       "      <th>Kullanıcı</th>\n",
       "      <th>Yorum</th>\n",
       "      <th>Puan</th>\n",
       "      <th>Tarih</th>\n",
       "    </tr>\n",
       "  </thead>\n",
       "  <tbody>\n",
       "    <tr>\n",
       "      <th>0</th>\n",
       "      <td>Google kullanıcısı</td>\n",
       "      <td>Telefonu sıfırladım uygulamayı tekrar kurdum. ...</td>\n",
       "      <td>1</td>\n",
       "      <td>2025-07-06 03:11:37</td>\n",
       "    </tr>\n",
       "    <tr>\n",
       "      <th>1</th>\n",
       "      <td>Google kullanıcısı</td>\n",
       "      <td>simkart blokesi koymussunuz baska oparerorden ...</td>\n",
       "      <td>1</td>\n",
       "      <td>2025-07-05 22:37:52</td>\n",
       "    </tr>\n",
       "    <tr>\n",
       "      <th>2</th>\n",
       "      <td>Google kullanıcısı</td>\n",
       "      <td>Para çekme paralı fatura ödeme eft yapma paral...</td>\n",
       "      <td>1</td>\n",
       "      <td>2025-07-05 21:49:08</td>\n",
       "    </tr>\n",
       "    <tr>\n",
       "      <th>3</th>\n",
       "      <td>Google kullanıcısı</td>\n",
       "      <td>Şaka Gibi Kart Limiti Nedir Bu Ciddi Sorundur ...</td>\n",
       "      <td>2</td>\n",
       "      <td>2025-07-05 20:59:31</td>\n",
       "    </tr>\n",
       "    <tr>\n",
       "      <th>4</th>\n",
       "      <td>Google kullanıcısı</td>\n",
       "      <td>ben onay vermeden her ay benden 45 TL para alı...</td>\n",
       "      <td>1</td>\n",
       "      <td>2025-07-05 11:20:33</td>\n",
       "    </tr>\n",
       "  </tbody>\n",
       "</table>\n",
       "</div>"
      ],
      "text/plain": [
       "            Kullanıcı                                              Yorum  \\\n",
       "0  Google kullanıcısı  Telefonu sıfırladım uygulamayı tekrar kurdum. ...   \n",
       "1  Google kullanıcısı  simkart blokesi koymussunuz baska oparerorden ...   \n",
       "2  Google kullanıcısı  Para çekme paralı fatura ödeme eft yapma paral...   \n",
       "3  Google kullanıcısı  Şaka Gibi Kart Limiti Nedir Bu Ciddi Sorundur ...   \n",
       "4  Google kullanıcısı  ben onay vermeden her ay benden 45 TL para alı...   \n",
       "\n",
       "   Puan               Tarih  \n",
       "0     1 2025-07-06 03:11:37  \n",
       "1     1 2025-07-05 22:37:52  \n",
       "2     1 2025-07-05 21:49:08  \n",
       "3     2 2025-07-05 20:59:31  \n",
       "4     1 2025-07-05 11:20:33  "
      ]
     },
     "execution_count": 11,
     "metadata": {},
     "output_type": "execute_result"
    }
   ],
   "source": [
    "df.head()"
   ]
  },
  {
   "cell_type": "code",
   "execution_count": null,
   "id": "7f830d83-4455-475d-8e92-02f78b217895",
   "metadata": {},
   "outputs": [],
   "source": []
  }
 ],
 "metadata": {
  "kernelspec": {
   "display_name": "paycell_review_analysis",
   "language": "python",
   "name": "paycell_review_analysis"
  },
  "language_info": {
   "codemirror_mode": {
    "name": "ipython",
    "version": 3
   },
   "file_extension": ".py",
   "mimetype": "text/x-python",
   "name": "python",
   "nbconvert_exporter": "python",
   "pygments_lexer": "ipython3",
   "version": "3.10.18"
  }
 },
 "nbformat": 4,
 "nbformat_minor": 5
}
