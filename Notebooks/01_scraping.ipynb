{
 "cells": [
  {
   "cell_type": "code",
   "execution_count": null,
   "id": "5bac7eb2-2e1b-451a-9f58-ea495a884f4d",
   "metadata": {},
   "outputs": [],
   "source": [
    "from google_play_scraper import Sort, reviews\n",
    "from app_store_scraper import AppStore\n",
    "import pandas as pd\n",
    "import time"
   ]
  },
  {
   "cell_type": "markdown",
   "id": "79900152-2060-4563-82df-0cc41a06b192",
   "metadata": {},
   "source": [
    "**PLAY STORE SCRAPER**"
   ]
  },
  {
   "cell_type": "code",
   "execution_count": null,
   "id": "8c226cf4-b56f-40ab-93dc-dde0d71b0040",
   "metadata": {},
   "outputs": [],
   "source": [
    "results, _ = reviews ('com.turkcell.paycell',\n",
    "                      lang='tr',\n",
    "                      country='tr',\n",
    "                      sort=Sort.NEWEST,\n",
    "                      count=68639\n",
    "                     )"
   ]
  },
  {
   "cell_type": "code",
   "execution_count": null,
   "id": "8ad4de19-85d1-41fc-bf96-fdfff01ec2b8",
   "metadata": {},
   "outputs": [],
   "source": [
    "results[0]"
   ]
  },
  {
   "cell_type": "code",
   "execution_count": null,
   "id": "65b0d327-72db-4c2e-8ade-c9f8e7f4cbf2",
   "metadata": {},
   "outputs": [],
   "source": [
    "df = pd.DataFrame(results)\n",
    "df = df[['content', 'score', 'at']]\n",
    "df.columns = ['Yorum', 'Puan', 'Tarih']"
   ]
  },
  {
   "cell_type": "code",
   "execution_count": null,
   "id": "988d11cd-a50a-4bad-91ab-fedbd507cb06",
   "metadata": {},
   "outputs": [],
   "source": [
    "df"
   ]
  },
  {
   "cell_type": "code",
   "execution_count": null,
   "id": "79dfb998-2079-41b6-bb14-784896e386c6",
   "metadata": {},
   "outputs": [],
   "source": [
    "df.to_csv(\"../data/paycell_reviews_play_store.csv\", index=False)"
   ]
  },
  {
   "cell_type": "markdown",
   "id": "cc07254d-0d53-4090-ae95-80ba9262c911",
   "metadata": {},
   "source": [
    "**APP STORE SCRAPER**"
   ]
  },
  {
   "cell_type": "markdown",
   "id": "ba3c1de0-11fe-448a-8f23-f9c30b784e4f",
   "metadata": {},
   "source": [
    "scraper'ı app store api kullanımını engellediği için kullanılamıyor. "
   ]
  },
  {
   "cell_type": "code",
   "execution_count": null,
   "id": "badf2619-ac16-451d-9422-bb4da278cd34",
   "metadata": {},
   "outputs": [],
   "source": [
    "app = AppStore(country='tr',app_name='paycell-dijital-cüzdan',app_id='1198609962')"
   ]
  },
  {
   "cell_type": "code",
   "execution_count": null,
   "id": "a094a8a0-bef7-4b7a-ab6d-6773585a9651",
   "metadata": {},
   "outputs": [],
   "source": [
    "app.review(how_many=200) "
   ]
  },
  {
   "cell_type": "code",
   "execution_count": null,
   "id": "cf15ad1a-120f-4e8a-8c3b-39997d10eb5a",
   "metadata": {},
   "outputs": [],
   "source": [
    "df = pd.DataFrame(np.array(app.reviews), columns=['review'])\n",
    "df2 = df.join(pd.DataFrame(df.pop('review').tolist()))"
   ]
  },
  {
   "cell_type": "markdown",
   "id": "06b8f40b-9fc9-4ae2-ba9d-0a9bb56f137e",
   "metadata": {},
   "source": [
    "__APP STORE DA SCRAPING YAPILAMADI__"
   ]
  }
 ],
 "metadata": {
  "kernelspec": {
   "display_name": "paycell_review_analysis",
   "language": "python",
   "name": "paycell_review_analysis"
  },
  "language_info": {
   "codemirror_mode": {
    "name": "ipython",
    "version": 3
   },
   "file_extension": ".py",
   "mimetype": "text/x-python",
   "name": "python",
   "nbconvert_exporter": "python",
   "pygments_lexer": "ipython3",
   "version": "3.10.18"
  }
 },
 "nbformat": 4,
 "nbformat_minor": 5
}
