{
 "cells": [
  {
   "cell_type": "code",
   "execution_count": 1,
   "id": "5bac7eb2-2e1b-451a-9f58-ea495a884f4d",
   "metadata": {},
   "outputs": [],
   "source": [
    "from google_play_scraper import Sort, reviews\n",
    "from app_store_scraper import AppStore\n",
    "import pandas as pd\n",
    "import time"
   ]
  },
  {
   "cell_type": "markdown",
   "id": "79900152-2060-4563-82df-0cc41a06b192",
   "metadata": {},
   "source": [
    "**PLAY STORE SCRAPER**"
   ]
  },
  {
   "cell_type": "code",
   "execution_count": 2,
   "id": "8c226cf4-b56f-40ab-93dc-dde0d71b0040",
   "metadata": {},
   "outputs": [],
   "source": [
    "results, _ = reviews ('com.turkcell.paycell',\n",
    "                      lang='tr',\n",
    "                      country='tr',\n",
    "                      sort=Sort.NEWEST,\n",
    "                      count=68639\n",
    "                     )"
   ]
  },
  {
   "cell_type": "code",
   "execution_count": 3,
   "id": "8ad4de19-85d1-41fc-bf96-fdfff01ec2b8",
   "metadata": {},
   "outputs": [
    {
     "data": {
      "text/plain": [
       "{'reviewId': '4b75b78f-5738-431e-b3d0-0ca4ccf24888',\n",
       " 'userName': 'Google kullanıcısı',\n",
       " 'userImage': 'https://play-lh.googleusercontent.com/EGemoI2NTXmTsBVtJqk8jxF9rh8ApRWfsIMQSt2uE4OcpQqbFu7f7NbTK05lx80nuSijCz7sc3a277R67g',\n",
       " 'content': 'şuan uygulama da sorunlar var bankadan karta para atılmıyor hata veriyor ayrıca mevcut abonelikleri otomatik ödeme oluyordu şimdi ret veriyor sorunu bir çok kişi yaşıyor bunu düzeltin lütfen',\n",
       " 'score': 1,\n",
       " 'thumbsUpCount': 0,\n",
       " 'reviewCreatedVersion': '9.3.1',\n",
       " 'at': datetime.datetime(2025, 7, 7, 10, 25, 20),\n",
       " 'replyContent': None,\n",
       " 'repliedAt': None,\n",
       " 'appVersion': '9.3.1'}"
      ]
     },
     "execution_count": 3,
     "metadata": {},
     "output_type": "execute_result"
    }
   ],
   "source": [
    "results[0]"
   ]
  },
  {
   "cell_type": "code",
   "execution_count": 4,
   "id": "65b0d327-72db-4c2e-8ade-c9f8e7f4cbf2",
   "metadata": {},
   "outputs": [],
   "source": [
    "df = pd.DataFrame(results)\n",
    "df = df[['content', 'score', 'at']]\n",
    "df.columns = ['Yorum', 'Puan', 'Tarih']"
   ]
  },
  {
   "cell_type": "code",
   "execution_count": 5,
   "id": "988d11cd-a50a-4bad-91ab-fedbd507cb06",
   "metadata": {},
   "outputs": [
    {
     "data": {
      "text/html": [
       "<div>\n",
       "<style scoped>\n",
       "    .dataframe tbody tr th:only-of-type {\n",
       "        vertical-align: middle;\n",
       "    }\n",
       "\n",
       "    .dataframe tbody tr th {\n",
       "        vertical-align: top;\n",
       "    }\n",
       "\n",
       "    .dataframe thead th {\n",
       "        text-align: right;\n",
       "    }\n",
       "</style>\n",
       "<table border=\"1\" class=\"dataframe\">\n",
       "  <thead>\n",
       "    <tr style=\"text-align: right;\">\n",
       "      <th></th>\n",
       "      <th>Yorum</th>\n",
       "      <th>Puan</th>\n",
       "      <th>Tarih</th>\n",
       "    </tr>\n",
       "  </thead>\n",
       "  <tbody>\n",
       "    <tr>\n",
       "      <th>0</th>\n",
       "      <td>şuan uygulama da sorunlar var bankadan karta p...</td>\n",
       "      <td>1</td>\n",
       "      <td>2025-07-07 10:25:20</td>\n",
       "    </tr>\n",
       "    <tr>\n",
       "      <th>1</th>\n",
       "      <td>bir türlü decont alamıyoruz. bazı yerler ödeme...</td>\n",
       "      <td>1</td>\n",
       "      <td>2025-07-07 09:08:45</td>\n",
       "    </tr>\n",
       "    <tr>\n",
       "      <th>2</th>\n",
       "      <td>bu nasıl bir uygulama bir haftadır açmaya çalı...</td>\n",
       "      <td>1</td>\n",
       "      <td>2025-07-06 22:22:35</td>\n",
       "    </tr>\n",
       "    <tr>\n",
       "      <th>3</th>\n",
       "      <td>yabancı olduğum için doğrulama yapamıyorum</td>\n",
       "      <td>1</td>\n",
       "      <td>2025-07-06 20:02:06</td>\n",
       "    </tr>\n",
       "    <tr>\n",
       "      <th>4</th>\n",
       "      <td>şifre güncelle diyorsunuz ama guncelletmiuorsu...</td>\n",
       "      <td>3</td>\n",
       "      <td>2025-07-06 18:34:42</td>\n",
       "    </tr>\n",
       "    <tr>\n",
       "      <th>...</th>\n",
       "      <td>...</td>\n",
       "      <td>...</td>\n",
       "      <td>...</td>\n",
       "    </tr>\n",
       "    <tr>\n",
       "      <th>68634</th>\n",
       "      <td>Çok güzel</td>\n",
       "      <td>5</td>\n",
       "      <td>2017-08-25 10:43:11</td>\n",
       "    </tr>\n",
       "    <tr>\n",
       "      <th>68635</th>\n",
       "      <td>Mobil ödeme bakiye ve islem tarihcesi goruntul...</td>\n",
       "      <td>5</td>\n",
       "      <td>2017-08-19 15:08:30</td>\n",
       "    </tr>\n",
       "    <tr>\n",
       "      <th>68636</th>\n",
       "      <td>Beklemedeyiz</td>\n",
       "      <td>4</td>\n",
       "      <td>2017-08-17 06:38:45</td>\n",
       "    </tr>\n",
       "    <tr>\n",
       "      <th>68637</th>\n",
       "      <td>Fine hit :)</td>\n",
       "      <td>5</td>\n",
       "      <td>2017-08-16 20:23:34</td>\n",
       "    </tr>\n",
       "    <tr>\n",
       "      <th>68638</th>\n",
       "      <td>Gayet başarılı ve kullanıcı dostu.</td>\n",
       "      <td>5</td>\n",
       "      <td>2017-08-15 22:20:51</td>\n",
       "    </tr>\n",
       "  </tbody>\n",
       "</table>\n",
       "<p>68639 rows × 3 columns</p>\n",
       "</div>"
      ],
      "text/plain": [
       "                                                   Yorum  Puan  \\\n",
       "0      şuan uygulama da sorunlar var bankadan karta p...     1   \n",
       "1      bir türlü decont alamıyoruz. bazı yerler ödeme...     1   \n",
       "2      bu nasıl bir uygulama bir haftadır açmaya çalı...     1   \n",
       "3             yabancı olduğum için doğrulama yapamıyorum     1   \n",
       "4      şifre güncelle diyorsunuz ama guncelletmiuorsu...     3   \n",
       "...                                                  ...   ...   \n",
       "68634                                          Çok güzel     5   \n",
       "68635  Mobil ödeme bakiye ve islem tarihcesi goruntul...     5   \n",
       "68636                                       Beklemedeyiz     4   \n",
       "68637                                        Fine hit :)     5   \n",
       "68638                 Gayet başarılı ve kullanıcı dostu.     5   \n",
       "\n",
       "                    Tarih  \n",
       "0     2025-07-07 10:25:20  \n",
       "1     2025-07-07 09:08:45  \n",
       "2     2025-07-06 22:22:35  \n",
       "3     2025-07-06 20:02:06  \n",
       "4     2025-07-06 18:34:42  \n",
       "...                   ...  \n",
       "68634 2017-08-25 10:43:11  \n",
       "68635 2017-08-19 15:08:30  \n",
       "68636 2017-08-17 06:38:45  \n",
       "68637 2017-08-16 20:23:34  \n",
       "68638 2017-08-15 22:20:51  \n",
       "\n",
       "[68639 rows x 3 columns]"
      ]
     },
     "execution_count": 5,
     "metadata": {},
     "output_type": "execute_result"
    }
   ],
   "source": [
    "df"
   ]
  },
  {
   "cell_type": "code",
   "execution_count": 6,
   "id": "79dfb998-2079-41b6-bb14-784896e386c6",
   "metadata": {},
   "outputs": [],
   "source": [
    "df.to_csv(\"../data/paycell_reviews_play_store.csv\", index=False)"
   ]
  },
  {
   "cell_type": "markdown",
   "id": "cc07254d-0d53-4090-ae95-80ba9262c911",
   "metadata": {},
   "source": [
    "**APP STORE SCRAPER**"
   ]
  },
  {
   "cell_type": "markdown",
   "id": "ba3c1de0-11fe-448a-8f23-f9c30b784e4f",
   "metadata": {},
   "source": [
    "scraper'ı app store api kullanımını engellediği için kullanılamıyor. "
   ]
  },
  {
   "cell_type": "code",
   "execution_count": 7,
   "id": "badf2619-ac16-451d-9422-bb4da278cd34",
   "metadata": {},
   "outputs": [
    {
     "name": "stderr",
     "output_type": "stream",
     "text": [
      "2025-07-08 15:18:03,525 [INFO] Base - Initialised: AppStore('tr', 'paycell-dijital-cüzdan', 1198609962)\n",
      "2025-07-08 15:18:03,527 [INFO] Base - Ready to fetch reviews from: https://apps.apple.com/tr/app/paycell-dijital-cüzdan/id1198609962\n"
     ]
    }
   ],
   "source": [
    "app = AppStore(country='tr',app_name='paycell-dijital-cüzdan',app_id='1198609962')"
   ]
  },
  {
   "cell_type": "code",
   "execution_count": 8,
   "id": "a094a8a0-bef7-4b7a-ab6d-6773585a9651",
   "metadata": {},
   "outputs": [
    {
     "name": "stderr",
     "output_type": "stream",
     "text": [
      "2025-07-08 15:18:04,383 [ERROR] Base - Something went wrong: Expecting value: line 1 column 1 (char 0)\n",
      "2025-07-08 15:18:04,384 [INFO] Base - [id:1198609962] Fetched 0 reviews (0 fetched in total)\n"
     ]
    }
   ],
   "source": [
    "app.review(how_many=200) "
   ]
  },
  {
   "cell_type": "code",
   "execution_count": 9,
   "id": "cf15ad1a-120f-4e8a-8c3b-39997d10eb5a",
   "metadata": {},
   "outputs": [
    {
     "ename": "NameError",
     "evalue": "name 'np' is not defined",
     "output_type": "error",
     "traceback": [
      "\u001b[1;31m---------------------------------------------------------------------------\u001b[0m",
      "\u001b[1;31mNameError\u001b[0m                                 Traceback (most recent call last)",
      "Cell \u001b[1;32mIn[9], line 1\u001b[0m\n\u001b[1;32m----> 1\u001b[0m df \u001b[38;5;241m=\u001b[39m pd\u001b[38;5;241m.\u001b[39mDataFrame(\u001b[43mnp\u001b[49m\u001b[38;5;241m.\u001b[39marray(app\u001b[38;5;241m.\u001b[39mreviews), columns\u001b[38;5;241m=\u001b[39m[\u001b[38;5;124m'\u001b[39m\u001b[38;5;124mreview\u001b[39m\u001b[38;5;124m'\u001b[39m])\n\u001b[0;32m      2\u001b[0m df2 \u001b[38;5;241m=\u001b[39m df\u001b[38;5;241m.\u001b[39mjoin(pd\u001b[38;5;241m.\u001b[39mDataFrame(df\u001b[38;5;241m.\u001b[39mpop(\u001b[38;5;124m'\u001b[39m\u001b[38;5;124mreview\u001b[39m\u001b[38;5;124m'\u001b[39m)\u001b[38;5;241m.\u001b[39mtolist()))\n",
      "\u001b[1;31mNameError\u001b[0m: name 'np' is not defined"
     ]
    }
   ],
   "source": [
    "df = pd.DataFrame(np.array(app.reviews), columns=['review'])\n",
    "df2 = df.join(pd.DataFrame(df.pop('review').tolist()))"
   ]
  },
  {
   "cell_type": "markdown",
   "id": "06b8f40b-9fc9-4ae2-ba9d-0a9bb56f137e",
   "metadata": {},
   "source": [
    "__APP STORE DA SCRAPING YAPILAMADI__"
   ]
  }
 ],
 "metadata": {
  "kernelspec": {
   "display_name": "paycell_review_analysis",
   "language": "python",
   "name": "paycell_review_analysis"
  },
  "language_info": {
   "codemirror_mode": {
    "name": "ipython",
    "version": 3
   },
   "file_extension": ".py",
   "mimetype": "text/x-python",
   "name": "python",
   "nbconvert_exporter": "python",
   "pygments_lexer": "ipython3",
   "version": "3.10.18"
  }
 },
 "nbformat": 4,
 "nbformat_minor": 5
}
