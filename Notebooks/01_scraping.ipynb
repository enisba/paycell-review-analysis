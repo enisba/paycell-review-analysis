{
 "cells": [
  {
   "cell_type": "code",
   "execution_count": 3,
   "id": "5bac7eb2-2e1b-451a-9f58-ea495a884f4d",
   "metadata": {},
   "outputs": [],
   "source": [
    "from google_play_scraper import Sort, reviews\n",
    "from app_store_scraper import AppStore\n",
    "import pandas as pd\n",
    "import time"
   ]
  },
  {
   "cell_type": "markdown",
   "id": "79900152-2060-4563-82df-0cc41a06b192",
   "metadata": {},
   "source": [
    "**PLAY STORE SCRAPER**"
   ]
  },
  {
   "cell_type": "code",
   "execution_count": 4,
   "id": "8c226cf4-b56f-40ab-93dc-dde0d71b0040",
   "metadata": {},
   "outputs": [],
   "source": [
    "results, _ = reviews ('com.turkcell.paycell',\n",
    "                      lang='tr',\n",
    "                      country='tr',\n",
    "                      sort=Sort.NEWEST,\n",
    "                      count=68639\n",
    "                     )"
   ]
  },
  {
   "cell_type": "code",
   "execution_count": 17,
   "id": "8ad4de19-85d1-41fc-bf96-fdfff01ec2b8",
   "metadata": {},
   "outputs": [
    {
     "data": {
      "text/plain": [
       "{'reviewId': '4940b219-6cfa-4fa9-8ae5-4fdcda7cd1c6',\n",
       " 'userName': 'Google kullanıcısı',\n",
       " 'userImage': 'https://play-lh.googleusercontent.com/EGemoI2NTXmTsBVtJqk8jxF9rh8ApRWfsIMQSt2uE4OcpQqbFu7f7NbTK05lx80nuSijCz7sc3a277R67g',\n",
       " 'content': 'sakin girmeyin',\n",
       " 'score': 1,\n",
       " 'thumbsUpCount': 0,\n",
       " 'reviewCreatedVersion': None,\n",
       " 'at': datetime.datetime(2025, 7, 19, 22, 54, 3),\n",
       " 'replyContent': None,\n",
       " 'repliedAt': None,\n",
       " 'appVersion': None}"
      ]
     },
     "execution_count": 17,
     "metadata": {},
     "output_type": "execute_result"
    }
   ],
   "source": [
    "results[0]"
   ]
  },
  {
   "cell_type": "code",
   "execution_count": 19,
   "id": "65b0d327-72db-4c2e-8ade-c9f8e7f4cbf2",
   "metadata": {},
   "outputs": [],
   "source": [
    "df = pd.DataFrame(results)\n",
    "df = df[['content', 'score', 'at']]\n",
    "df.columns = ['Yorum', 'Puan', 'Tarih']"
   ]
  },
  {
   "cell_type": "code",
   "execution_count": 21,
   "id": "988d11cd-a50a-4bad-91ab-fedbd507cb06",
   "metadata": {},
   "outputs": [
    {
     "data": {
      "text/html": [
       "<div>\n",
       "<style scoped>\n",
       "    .dataframe tbody tr th:only-of-type {\n",
       "        vertical-align: middle;\n",
       "    }\n",
       "\n",
       "    .dataframe tbody tr th {\n",
       "        vertical-align: top;\n",
       "    }\n",
       "\n",
       "    .dataframe thead th {\n",
       "        text-align: right;\n",
       "    }\n",
       "</style>\n",
       "<table border=\"1\" class=\"dataframe\">\n",
       "  <thead>\n",
       "    <tr style=\"text-align: right;\">\n",
       "      <th></th>\n",
       "      <th>Yorum</th>\n",
       "      <th>Puan</th>\n",
       "      <th>Tarih</th>\n",
       "    </tr>\n",
       "  </thead>\n",
       "  <tbody>\n",
       "    <tr>\n",
       "      <th>0</th>\n",
       "      <td>sakin girmeyin</td>\n",
       "      <td>1</td>\n",
       "      <td>2025-07-19 22:54:03</td>\n",
       "    </tr>\n",
       "    <tr>\n",
       "      <th>1</th>\n",
       "      <td>Uygulamada arkadaşını davet et butonu çalışmıy...</td>\n",
       "      <td>4</td>\n",
       "      <td>2025-07-19 15:19:42</td>\n",
       "    </tr>\n",
       "    <tr>\n",
       "      <th>2</th>\n",
       "      <td>SMS KODU GELMİYOR</td>\n",
       "      <td>1</td>\n",
       "      <td>2025-07-19 09:00:43</td>\n",
       "    </tr>\n",
       "    <tr>\n",
       "      <th>3</th>\n",
       "      <td>geçici olarak IBAN bilgilerine ulaşılamıyor di...</td>\n",
       "      <td>5</td>\n",
       "      <td>2025-07-19 06:27:28</td>\n",
       "    </tr>\n",
       "    <tr>\n",
       "      <th>4</th>\n",
       "      <td>onaylayabilmek için telefonumun NFC özelliğini...</td>\n",
       "      <td>1</td>\n",
       "      <td>2025-07-18 14:50:20</td>\n",
       "    </tr>\n",
       "    <tr>\n",
       "      <th>...</th>\n",
       "      <td>...</td>\n",
       "      <td>...</td>\n",
       "      <td>...</td>\n",
       "    </tr>\n",
       "    <tr>\n",
       "      <th>68634</th>\n",
       "      <td>Uygulama Çok İyi Ancak Günlük Giriş Olarak Kre...</td>\n",
       "      <td>5</td>\n",
       "      <td>2017-10-25 19:51:01</td>\n",
       "    </tr>\n",
       "    <tr>\n",
       "      <th>68635</th>\n",
       "      <td>Arkadaş turk sel bayi email adresimi yanlış gi...</td>\n",
       "      <td>1</td>\n",
       "      <td>2017-10-25 15:07:58</td>\n",
       "    </tr>\n",
       "    <tr>\n",
       "      <th>68636</th>\n",
       "      <td>Arena of valor oyununa 3,89 nakit cektim oyuna...</td>\n",
       "      <td>3</td>\n",
       "      <td>2017-10-21 10:55:40</td>\n",
       "    </tr>\n",
       "    <tr>\n",
       "      <th>68637</th>\n",
       "      <td>Arayuz gercekten cok iyi.</td>\n",
       "      <td>5</td>\n",
       "      <td>2017-10-18 19:05:47</td>\n",
       "    </tr>\n",
       "    <tr>\n",
       "      <th>68638</th>\n",
       "      <td>Annesizler bizi ne dolandiriyosunuz polise ver...</td>\n",
       "      <td>1</td>\n",
       "      <td>2017-10-18 19:03:53</td>\n",
       "    </tr>\n",
       "  </tbody>\n",
       "</table>\n",
       "<p>68639 rows × 3 columns</p>\n",
       "</div>"
      ],
      "text/plain": [
       "                                                   Yorum  Puan  \\\n",
       "0                                         sakin girmeyin     1   \n",
       "1      Uygulamada arkadaşını davet et butonu çalışmıy...     4   \n",
       "2                                      SMS KODU GELMİYOR     1   \n",
       "3      geçici olarak IBAN bilgilerine ulaşılamıyor di...     5   \n",
       "4      onaylayabilmek için telefonumun NFC özelliğini...     1   \n",
       "...                                                  ...   ...   \n",
       "68634  Uygulama Çok İyi Ancak Günlük Giriş Olarak Kre...     5   \n",
       "68635  Arkadaş turk sel bayi email adresimi yanlış gi...     1   \n",
       "68636  Arena of valor oyununa 3,89 nakit cektim oyuna...     3   \n",
       "68637                          Arayuz gercekten cok iyi.     5   \n",
       "68638  Annesizler bizi ne dolandiriyosunuz polise ver...     1   \n",
       "\n",
       "                    Tarih  \n",
       "0     2025-07-19 22:54:03  \n",
       "1     2025-07-19 15:19:42  \n",
       "2     2025-07-19 09:00:43  \n",
       "3     2025-07-19 06:27:28  \n",
       "4     2025-07-18 14:50:20  \n",
       "...                   ...  \n",
       "68634 2017-10-25 19:51:01  \n",
       "68635 2017-10-25 15:07:58  \n",
       "68636 2017-10-21 10:55:40  \n",
       "68637 2017-10-18 19:05:47  \n",
       "68638 2017-10-18 19:03:53  \n",
       "\n",
       "[68639 rows x 3 columns]"
      ]
     },
     "execution_count": 21,
     "metadata": {},
     "output_type": "execute_result"
    }
   ],
   "source": [
    "df"
   ]
  },
  {
   "cell_type": "code",
   "execution_count": 23,
   "id": "79dfb998-2079-41b6-bb14-784896e386c6",
   "metadata": {},
   "outputs": [],
   "source": [
    "df.to_csv(\"../data/paycell_reviews_play_store.csv\", index=False)"
   ]
  },
  {
   "cell_type": "markdown",
   "id": "cc07254d-0d53-4090-ae95-80ba9262c911",
   "metadata": {},
   "source": [
    "**APP STORE SCRAPER**"
   ]
  },
  {
   "cell_type": "markdown",
   "id": "ba3c1de0-11fe-448a-8f23-f9c30b784e4f",
   "metadata": {},
   "source": [
    "scraper'ı app store api kullanımını engellediği için kullanılamıyor. "
   ]
  },
  {
   "cell_type": "code",
   "execution_count": 27,
   "id": "badf2619-ac16-451d-9422-bb4da278cd34",
   "metadata": {},
   "outputs": [
    {
     "name": "stderr",
     "output_type": "stream",
     "text": [
      "2025-07-21 11:19:38,210 [INFO] Base - Initialised: AppStore('tr', 'paycell-dijital-cüzdan', 1198609962)\n",
      "2025-07-21 11:19:38,211 [INFO] Base - Ready to fetch reviews from: https://apps.apple.com/tr/app/paycell-dijital-cüzdan/id1198609962\n"
     ]
    }
   ],
   "source": [
    "app = AppStore(country='tr',app_name='paycell-dijital-cüzdan',app_id='1198609962')"
   ]
  },
  {
   "cell_type": "code",
   "execution_count": 28,
   "id": "a094a8a0-bef7-4b7a-ab6d-6773585a9651",
   "metadata": {},
   "outputs": [
    {
     "name": "stderr",
     "output_type": "stream",
     "text": [
      "2025-07-21 11:19:39,080 [ERROR] Base - Something went wrong: Expecting value: line 1 column 1 (char 0)\n",
      "2025-07-21 11:19:39,082 [INFO] Base - [id:1198609962] Fetched 0 reviews (0 fetched in total)\n"
     ]
    }
   ],
   "source": [
    "app.review(how_many=200) "
   ]
  },
  {
   "cell_type": "code",
   "execution_count": 34,
   "id": "cf15ad1a-120f-4e8a-8c3b-39997d10eb5a",
   "metadata": {},
   "outputs": [],
   "source": [
    "import numpy as np\n",
    "df = pd.DataFrame(np.array(app.reviews), columns=['review'])\n",
    "df2 = df.join(pd.DataFrame(df.pop('review').tolist()))"
   ]
  },
  {
   "cell_type": "markdown",
   "id": "06b8f40b-9fc9-4ae2-ba9d-0a9bb56f137e",
   "metadata": {},
   "source": [
    "__APP STORE DA SCRAPING YAPILAMADI GEÇEN YIL ITIBARI ILE DESTEK KAPANMIS__"
   ]
  },
  {
   "cell_type": "code",
   "execution_count": null,
   "id": "10d5e129-7216-46a3-b6b8-fa7afe7d74c9",
   "metadata": {},
   "outputs": [],
   "source": []
  }
 ],
 "metadata": {
  "kernelspec": {
   "display_name": "paycell_review_analysis",
   "language": "python",
   "name": "paycell_review_analysis"
  },
  "language_info": {
   "codemirror_mode": {
    "name": "ipython",
    "version": 3
   },
   "file_extension": ".py",
   "mimetype": "text/x-python",
   "name": "python",
   "nbconvert_exporter": "python",
   "pygments_lexer": "ipython3",
   "version": "3.10.18"
  }
 },
 "nbformat": 4,
 "nbformat_minor": 5
}
